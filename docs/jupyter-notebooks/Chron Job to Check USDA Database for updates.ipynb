{
 "cells": [
  {
   "cell_type": "markdown",
   "metadata": {},
   "source": [
    "## Let's define some functions"
   ]
  },
  {
   "cell_type": "code",
   "execution_count": null,
   "metadata": {
    "collapsed": true
   },
   "outputs": [],
   "source": [
    "def get_db_status(initial_search_request):\n",
    "    '''\n",
    "    initial_search_request = 'https://api.nal.usda.gov/ndb/search/?format=json&q=&sort=n&max=1&offset=0&api_key=DEMO_KEY'\n",
    "    current_total = total number of items in usda database at the time of request\n",
    "    current_sr = Standard Release version of the data at the time of request\n",
    "    \n",
    "    Returns {'current_total': current_total, 'current_sr': current_sr}\n",
    "    '''\n",
    "    usda_database_check = requests.get(initial_search_request)\n",
    "    check_json = usda_database_check.json()\n",
    "    current_total = check_json['list']['total']\n",
    "    current_sr = check_json['list']['sr']\n",
    "    return {'current_total': current_total, 'current_sr': current_sr}\n",
    "\n",
    "def check_dbitem_changed(LAST_NDBNO_TOTAL, current_ndbno_total, LAST_SR, current_sr): #TODO: convert to decorator\n",
    "    '''Returns True if Database has a different number of items\n",
    "    '''\n",
    "    if LAST_NDBNO_TOTAL != current_ndbno_total:\n",
    "        return True\n",
    "    elif LAST_SR != current_sr:\n",
    "        return True\n",
    "    else:\n",
    "        return False"
   ]
  }
 ],
 "metadata": {
  "kernelspec": {
   "display_name": "Python 3",
   "language": "python",
   "name": "python3"
  },
  "language_info": {
   "codemirror_mode": {
    "name": "ipython",
    "version": 3
   },
   "file_extension": ".py",
   "mimetype": "text/x-python",
   "name": "python",
   "nbconvert_exporter": "python",
   "pygments_lexer": "ipython3",
   "version": "3.5.2"
  }
 },
 "nbformat": 4,
 "nbformat_minor": 2
}
