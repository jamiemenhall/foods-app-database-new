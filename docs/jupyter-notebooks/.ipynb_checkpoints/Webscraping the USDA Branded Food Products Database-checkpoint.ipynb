{
 "cells": [
  {
   "cell_type": "markdown",
   "metadata": {},
   "source": [
    "### Import needed libraries"
   ]
  },
  {
   "cell_type": "code",
   "execution_count": 1,
   "metadata": {},
   "outputs": [
    {
     "data": {
      "text/plain": [
       "['adium-theme-ubuntu==0.3.4',\n",
       " 'attrs==15.2.0',\n",
       " 'autoenv==1.0.0',\n",
       " 'backports.shutil-get-terminal-size==1.0.0',\n",
       " 'beautifulsoup4==4.6.0',\n",
       " 'bleach==2.0.0',\n",
       " 'bs4==0.0.1',\n",
       " 'chardet==2.3.0',\n",
       " 'click==6.7',\n",
       " 'configparser==3.5.0',\n",
       " 'cryptography==1.2.3',\n",
       " 'decorator==4.0.6',\n",
       " 'deluge==1.3.12',\n",
       " 'entrypoints==0.2.3',\n",
       " 'enum34==1.1.2',\n",
       " 'functools32==3.2.3.post2',\n",
       " 'futures==3.1.1',\n",
       " 'html5lib==0.999999999',\n",
       " 'idna==2.0',\n",
       " 'ipaddress==1.0.16',\n",
       " 'ipykernel==4.6.1',\n",
       " 'ipyparallel==6.0.2',\n",
       " 'ipython==5.4.1',\n",
       " 'ipython-genutils==0.2.0',\n",
       " 'ipywidgets==6.0.0',\n",
       " 'itsdangerous==0.24',\n",
       " 'Jinja2==2.9.6',\n",
       " 'jsonschema==2.6.0',\n",
       " 'jupyter==1.0.0',\n",
       " 'jupyter-client==5.1.0',\n",
       " 'jupyter-console==5.1.0',\n",
       " 'jupyter-core==4.3.0',\n",
       " 'MarkupSafe==1.0',\n",
       " 'mistune==0.7.4',\n",
       " 'nbconvert==5.2.1',\n",
       " 'nbformat==4.3.0',\n",
       " 'notebook==5.0.0',\n",
       " 'numpy==1.11.0',\n",
       " 'PAM==0.4.2',\n",
       " 'pandocfilters==1.4.1',\n",
       " 'pathlib2==2.3.0',\n",
       " 'pbr==3.1.1',\n",
       " 'pexpect==4.0.1',\n",
       " 'pickleshare==0.7.4',\n",
       " 'prompt-toolkit==1.0.14',\n",
       " 'ptyprocess==0.5',\n",
       " 'pyasn1==0.1.9',\n",
       " 'pyasn1-modules==0.0.7',\n",
       " 'pycurl==7.43.0',\n",
       " 'pygame===1.9.1release',\n",
       " 'Pygments==2.2.0',\n",
       " 'pygobject==3.20.0',\n",
       " 'PyMySQL==0.7.2',\n",
       " 'pyOpenSSL==0.15.1',\n",
       " 'pyserial==3.0.1',\n",
       " 'python-dateutil==2.6.1',\n",
       " 'python-libtorrent==1.0.7',\n",
       " 'pyxdg==0.25',\n",
       " 'pyzmq==15.2.0',\n",
       " 'qtconsole==4.3.0',\n",
       " 'scandir==1.5',\n",
       " 'service-identity==16.0.0',\n",
       " 'simplegeneric==0.8.1',\n",
       " 'six==1.10.0',\n",
       " 'stevedore==1.25.0',\n",
       " 'terminado==0.6',\n",
       " 'testpath==0.3.1',\n",
       " 'tornado==4.2.1',\n",
       " 'traitlets==4.3.2',\n",
       " 'Twisted==16.0.0',\n",
       " 'unity-lens-photos==1.0',\n",
       " 'virtualenv==15.1.0',\n",
       " 'virtualenv-clone==0.2.6',\n",
       " 'virtualenvwrapper==4.7.2',\n",
       " 'wcwidth==0.1.7',\n",
       " 'webencodings==0.5.1',\n",
       " 'Werkzeug==0.12.2',\n",
       " 'widgetsnbextension==2.0.0',\n",
       " 'zope.interface==4.1.3']"
      ]
     },
     "execution_count": 1,
     "metadata": {},
     "output_type": "execute_result"
    }
   ],
   "source": [
    "!!pip freeze"
   ]
  },
  {
   "cell_type": "code",
   "execution_count": 2,
   "metadata": {
    "collapsed": true
   },
   "outputs": [],
   "source": [
    "import json\n",
    "import requests\n",
    "import time"
   ]
  },
  {
   "cell_type": "markdown",
   "metadata": {},
   "source": [
    "### Determine the number of items in the USDA database \n",
    "\n",
    "We will be using this marker as well as the lastupdated date to initiate a scan for new data.  running the webiste through internetarchives will do the trick."
   ]
  },
  {
   "cell_type": "markdown",
   "metadata": {},
   "source": [
    "### Assign variables to Variables \n",
    "\n",
    "These will be used later in the code. In the future, we may want to import these variables from a .yaml or .json file. Configurations should be imported or extracted from a parsable, human-friendly config file. When setting up complex systems, it's nice to have configuration files thoughtfully organized."
   ]
  },
  {
   "cell_type": "markdown",
   "metadata": {},
   "source": [
    "First let's define some functions that will be helpful.  These values are stored in `food-app-database/instance/config.py`"
   ]
  },
  {
   "cell_type": "markdown",
   "metadata": {},
   "source": [
    "*NDBNO_TOTAL* is the last recorded number of items in the USDA database.  This should be recorded in instances/config.py\n",
    "\n",
    "*API_KEY* is the identifier acquired through USDA api services\n",
    "\n",
    "*q* is the search term (any string) for the search API.  We'll most likely leave this blank\n",
    "\n",
    "*ds* is the datasource.  Must be 'Branded Food Products', 'Standard Reference', or ''.  We'll leave it blank to include both.\n",
    "\n",
    "*fg* is the Food group ID.  We'll also leave this blank\n",
    "\n",
    "*sort* the results by food name (n) or by search relevance (r).  We'll sort by food name (n) for standardization's sake.\n",
    "\n",
    "*max* refers to the maximum number of items to return.  This seems to max out at 150.\n",
    "\n",
    "*offset* determines the index of the beginning row in the results set to begin.  \n",
    "\n",
    "*format* can either be JSON ('json') or XML ('xml).  We'll stick with JSON."
   ]
  },
  {
   "cell_type": "code",
   "execution_count": 3,
   "metadata": {},
   "outputs": [],
   "source": [
    "NDBNO_TOTAL = 200000\n",
    "API_KEY = '7WqOHQdC2shEfBrx25bIEwxBkvUkYTHMoHYlLWL8'\n",
    "q = ''\n",
    "ds = ''\n",
    "fg = ''\n",
    "sort = 'n'\n",
    "max = 150\n",
    "format = 'json' \n",
    "q = '' \n",
    "\n",
    "# special api request to get meta information on database (total number of items, standard reference version)\n",
    "initial_search_request = 'https://api.nal.usda.gov/ndb/search/?format=json&q=&sort=n&max=1&offset=0&api_key=DEMO_KEY'"
   ]
  },
  {
   "cell_type": "markdown",
   "metadata": {},
   "source": [
    "## Let's define some useful functions "
   ]
  },
  {
   "cell_type": "code",
   "execution_count": 4,
   "metadata": {},
   "outputs": [
    {
     "ename": "SyntaxError",
     "evalue": "invalid syntax (<ipython-input-4-bbceb09280b7>, line 9)",
     "output_type": "error",
     "traceback": [
      "\u001b[0;36m  File \u001b[0;32m\"<ipython-input-4-bbceb09280b7>\"\u001b[0;36m, line \u001b[0;32m9\u001b[0m\n\u001b[0;31m    usda_database_check = requests.get(initial_search_request)    check_json = usda_database_check.json()\u001b[0m\n\u001b[0m                                                                           ^\u001b[0m\n\u001b[0;31mSyntaxError\u001b[0m\u001b[0;31m:\u001b[0m invalid syntax\n"
     ]
    }
   ],
   "source": [
    "def get_db_status(initial_search_request):\n",
    "    '''\n",
    "    initial_search_request = 'https://api.nal.usda.gov/ndb/search/?format=json&q=&sort=n&max=1&offset=0&api_key=DEMO_KEY'\n",
    "    total_number = total number of items in usda database\n",
    "    current_sr = Standard Release version of the data being reported\n",
    "    \n",
    "    Returns {'total': total_number, 'sr': current_sr}\n",
    "    '''\n",
    "    usda_database_check = requests.get(initial_search_request)\\\n",
    "    check_json = usda_database_check.json()\n",
    "    total_number = check_json['list']['total']\n",
    "    current_sr = check_json['list']['sr']\n",
    "    return {'total': total_number, 'current_sr': current_sr}\n",
    "\n",
    "def check_dbitem_changed(NDBNO_TOTAL, current_ndbno): # can this be a wrapper?\n",
    "    '''Returns True if Database has a different number of items\n",
    "    '''\n",
    "    check_json = usda_database_check.json()\n",
    "    current_total = check_json['list']['total']\n",
    "    return current_total != items_total\n",
    "\n",
    "def find_new_ndbno():\n",
    "    '''This returns a list of new ndbno's in the usda foods database\n",
    "    '''\n",
    "    pass"
   ]
  },
  {
   "cell_type": "markdown",
   "metadata": {},
   "source": []
  },
  {
   "cell_type": "code",
   "execution_count": null,
   "metadata": {
    "collapsed": true
   },
   "outputs": [],
   "source": [
    "type = 'f' # get full reports only\n",
    "\n",
    "usda_database_check = requests.get(initial_search_request)\n",
    "check_json = usda_database_check.json()\n",
    "\n",
    "print(check_json)\n",
    "\n",
    "items_total = check_json['list']['total'] # total number of species\n",
    "print(items_total)\n",
    "\n",
    "# get all ndbno in database\n",
    "get_all_items_api_request = 'https://api.nal.usda.gov/ndb/search/?format=json&q=&sort=n&max=1&offset=0&api_key=DEMO_KEY'"
   ]
  },
  {
   "cell_type": "code",
   "execution_count": null,
   "metadata": {
    "collapsed": true
   },
   "outputs": [],
   "source": []
  },
  {
   "cell_type": "code",
   "execution_count": null,
   "metadata": {
    "collapsed": true
   },
   "outputs": [],
   "source": [
    "\"q\": \"\",\n",
    "        \"sr\": \"28\",\n",
    "        \"ds\": \"any\",\n",
    "        \"start\": 0,\n",
    "        \"end\": 150,\n",
    "        \"total\": 214072,\n",
    "        \"group\": \"\",\n",
    "        \"sort\": \"r\",\n",
    "        \"item\": ["
   ]
  },
  {
   "cell_type": "code",
   "execution_count": null,
   "metadata": {},
   "outputs": [],
   "source": [
    "example = requests.get(example_food_comp_api_request)\n",
    "print(type(example), example)"
   ]
  },
  {
   "cell_type": "code",
   "execution_count": null,
   "metadata": {},
   "outputs": [],
   "source": [
    "example_json = example.json()\n",
    "\n",
    "print(type(example_json), example_json)"
   ]
  },
  {
   "cell_type": "code",
   "execution_count": null,
   "metadata": {
    "collapsed": true
   },
   "outputs": [],
   "source": [
    "start_url = \"https://ndb.nal.usda.gov/ndb/search/list\"\n",
    "api_key1 = '7WqOHQdC2shEfBrx25bIEwxBkvUkYTHMoHYlLWL8'\n",
    "api_key2 = 'avWkKpCJmnTjviy9vfKmsaZkGALXNabV05zUyXQ1'\n",
    "\n",
    "example_search_api_request = 'https://api.nal.usda.gov/ndb/search/?format=json&q=butter&max=25&offset=0&api_key=DEMO_KEY'\n",
    "example_food_comp_api_request = 'https://api.nal.usda.gov/ndb/reports/?ndbno=01009&type=f&format=xml&api_key=DEMO_KEY'\n",
    "                                \n",
    "                              \n",
    "\n",
    "html_target = \"a\"\n",
    "tag = \"href\"\n",
    "f_ext = \".csv\"\n",
    "dir_name = \"...\""
   ]
  },
  {
   "cell_type": "code",
   "execution_count": null,
   "metadata": {
    "collapsed": true
   },
   "outputs": [],
   "source": []
  },
  {
   "cell_type": "markdown",
   "metadata": {},
   "source": [
    "### Request and Collect"
   ]
  },
  {
   "cell_type": "markdown",
   "metadata": {
    "collapsed": true
   },
   "source": [
    "We instantiate a request object and call the `.get` method on it. `r` is our `HTTP 1.1` response. \n",
    "\n",
    "From here we have:\n",
    "\n",
    "*    status\n",
    "*    encoding\n",
    "*    text of the body --- should type check this\n",
    "*    content of the body --- type binary\n",
    "\n",
    "Once we have our `html` we are ready to scrape the site for useful `href` tags`\n",
    "\n"
   ]
  },
  {
   "cell_type": "code",
   "execution_count": null,
   "metadata": {
    "collapsed": true
   },
   "outputs": [],
   "source": [
    "result = requests.get(start_url)\n",
    "\n",
    "status = result.status_code\n",
    "encoding = result.encoding\n",
    "html_doc = result.text\n",
    "c = result.content\n",
    "\n",
    "print(status, encoding)"
   ]
  },
  {
   "cell_type": "markdown",
   "metadata": {},
   "source": [
    "Now let's create a beautifulsoup object out of the request object so we can more easily navigate the html"
   ]
  },
  {
   "cell_type": "code",
   "execution_count": null,
   "metadata": {
    "collapsed": true
   },
   "outputs": [],
   "source": [
    "soup = BeautifulSoup(c, 'lxml')"
   ]
  },
  {
   "cell_type": "code",
   "execution_count": null,
   "metadata": {
    "collapsed": true
   },
   "outputs": [],
   "source": [
    "print(soup.prettify())"
   ]
  },
  {
   "cell_type": "code",
   "execution_count": null,
   "metadata": {
    "collapsed": true
   },
   "outputs": [],
   "source": [
    "soup.title"
   ]
  },
  {
   "cell_type": "code",
   "execution_count": null,
   "metadata": {
    "collapsed": true
   },
   "outputs": [],
   "source": [
    "soup.title.name"
   ]
  },
  {
   "cell_type": "code",
   "execution_count": null,
   "metadata": {
    "collapsed": true
   },
   "outputs": [],
   "source": [
    "soup.title.string"
   ]
  },
  {
   "cell_type": "code",
   "execution_count": null,
   "metadata": {
    "collapsed": true
   },
   "outputs": [],
   "source": [
    "soup.title.parent.name"
   ]
  },
  {
   "cell_type": "code",
   "execution_count": null,
   "metadata": {
    "collapsed": true
   },
   "outputs": [],
   "source": [
    "soup.p"
   ]
  },
  {
   "cell_type": "code",
   "execution_count": null,
   "metadata": {
    "collapsed": true
   },
   "outputs": [],
   "source": [
    "soup.a"
   ]
  },
  {
   "cell_type": "markdown",
   "metadata": {
    "collapsed": true
   },
   "source": [
    "#### download_url(url, endpoint)\n",
    "\n",
    "This function makes a new request each time it's called. It writes the binary content to file.\n",
    "This could be two functions:\n",
    "1. Get the new request object/content \n",
    "2. Write that content to file "
   ]
  },
  {
   "cell_type": "code",
   "execution_count": null,
   "metadata": {
    "collapsed": true
   },
   "outputs": [],
   "source": [
    "def download_url(url, endpoint):\n",
    "    \"\"\"\n",
    "    return: None\n",
    "    downloads file, requires url in global or class scope.\n",
    "    \"\"\"\n",
    "    url_addr = \"{url}/{endpoint}\".format(url=url, endpoint=endpoint)\n",
    "    file_path = \"{directory}/{endpoint}\".format(directory=dir_name, endpoint=endpoint)\n",
    "    \n",
    "    r = requests.get(url_addr)\n",
    "    content_file = r.content\n",
    "    \n",
    "    with open(file_path, 'wb') as f:\n",
    "        print \"\"\"Downloading From: {url}\\nWriting to: {file_path}\"\"\".format(\n",
    "                                                url=url_addr, \n",
    "                                                file_path=file_path\n",
    "                                                                    )\n",
    "        f.write(content_file)"
   ]
  }
 ],
 "metadata": {
  "kernelspec": {
   "display_name": "Python 3",
   "language": "python",
   "name": "python3"
  },
  "language_info": {
   "codemirror_mode": {
    "name": "ipython",
    "version": 3
   },
   "file_extension": ".py",
   "mimetype": "text/x-python",
   "name": "python",
   "nbconvert_exporter": "python",
   "pygments_lexer": "ipython3",
   "version": "3.5.2"
  }
 },
 "nbformat": 4,
 "nbformat_minor": 1
}
