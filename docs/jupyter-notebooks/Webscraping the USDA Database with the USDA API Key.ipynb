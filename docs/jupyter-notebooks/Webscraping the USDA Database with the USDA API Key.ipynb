{
 "cells": [
  {
   "cell_type": "markdown",
   "metadata": {},
   "source": [
    "## Import needed libraries"
   ]
  },
  {
   "cell_type": "code",
   "execution_count": null,
   "metadata": {
    "collapsed": true
   },
   "outputs": [],
   "source": [
    "!!pip freeze # shows you all the packages installed in your local environment"
   ]
  },
  {
   "cell_type": "code",
   "execution_count": null,
   "metadata": {
    "collapsed": true
   },
   "outputs": [],
   "source": [
    "import json\n",
    "import requests\n",
    "import time"
   ]
  },
  {
   "cell_type": "markdown",
   "metadata": {},
   "source": [
    "## Assign variables to Variables \n",
    "\n",
    "These will be used later in the code. In the future, we may want to import these variables from a .yaml or .json file. Configurations should be imported or extracted from a parsable, human-friendly config file. When setting up complex systems, it's nice to have configuration files thoughtfully organized."
   ]
  },
  {
   "cell_type": "markdown",
   "metadata": {},
   "source": [
    "First let's define some variables that will be helpful.  These values are stored in `food-app-database/instance/config.py`"
   ]
  },
  {
   "cell_type": "markdown",
   "metadata": {},
   "source": [
    "*NDBNO_TOTAL* is the last recorded number of items in the USDA database.  \n",
    "\n",
    "*LAST_SR* is the version number of the USDA Database\n",
    "\n",
    "*API_KEY* is the identifier acquired through USDA api services\n",
    "\n",
    "*q* is the search term (any string) for the search API.  We'll most likely leave this blank.\n",
    "\n",
    "*ds* is the datasource.  Must be 'Branded Food Products', 'Standard Reference', or ''.  We'll leave it blank to include both.\n",
    "\n",
    "*fg* is the Food group ID.  We'll also leave this blank.\n",
    "\n",
    "*sort* the results by food name (n) or by search relevance (r).  We'll sort by food name (n) for standardization's sake.\n",
    "\n",
    "*mx* refers to the maximum number of items to return.  This seems to max out at 1500.\n",
    "\n",
    "*offset* determines the index of the beginning row in the results set to begin.  \n",
    "\n",
    "*formt* can either be JSON ('json') or XML ('xml).  We'll stick with JSON."
   ]
  },
  {
   "cell_type": "code",
   "execution_count": null,
   "metadata": {
    "collapsed": true
   },
   "outputs": [],
   "source": [
    "LAST_NDBNO_TOTAL = 200000\n",
    "LAST_SR = 28\n",
    "current_ndbo_total = 0\n",
    "current_sr = 0\n",
    "API_KEY = '7WqOHQdC2shEfBrx25bIEwxBkvUkYTHMoHYlLWL8' #1000 requests/hour\n",
    "q = ''\n",
    "ds = ''\n",
    "fg = ''\n",
    "sort = 'n'\n",
    "mx = 5 # max is 1500 \n",
    "offset = '0'\n",
    "formt = 'json' \n",
    "q = '' \n",
    "typ = 'f'"
   ]
  },
  {
   "cell_type": "code",
   "execution_count": null,
   "metadata": {
    "collapsed": true
   },
   "outputs": [],
   "source": [
    "# special api request to get meta information on database (total number of items, standard reference version)\n",
    "initial_search_request = 'https://api.nal.usda.gov/ndb/search/?format=json&q=&sort=n&max=1&offset=0&api_key=7WqOHQdC2shEfBrx25bIEwxBkvUkYTHMoHYlLWL8'\n",
    "\n",
    "# search API\n",
    "search_api_request = 'https://api.nal.usda.gov/ndb/search/?format={}&q={}&sort={}&max={}&offset={}&api_key={}'.format(formt, q, sort, mx, offset, API_KEY)\n",
    "\n",
    "# Get JSON report with API\n",
    "report_api_request = 'https://api.nal.usda.gov/ndb/reports/?ndbno={}&type={}&format={}&api_key={}'.format(ndbno_id, typ, formt, API_KEY)"
   ]
  },
  {
   "cell_type": "markdown",
   "metadata": {},
   "source": [
    "## Let's define some useful functions "
   ]
  },
  {
   "cell_type": "code",
   "execution_count": null,
   "metadata": {
    "collapsed": true
   },
   "outputs": [],
   "source": [
    "def get_db_status(initial_search_request):\n",
    "    '''\n",
    "    initial_search_request = 'https://api.nal.usda.gov/ndb/search/?format=json&q=&sort=n&max=1&offset=0&api_key=DEMO_KEY'\n",
    "    current_total = total number of items in usda database at the time of request\n",
    "    current_sr = Standard Release version of the data at the time of request\n",
    "    \n",
    "    Returns {'current_total': current_total, 'current_sr': current_sr}\n",
    "    '''\n",
    "    usda_database_check = requests.get(initial_search_request)\n",
    "    check_json = usda_database_check.json()\n",
    "    current_total = check_json['list']['total']\n",
    "    current_sr = check_json['list']['sr']\n",
    "    return {'current_total': current_total, 'current_sr': current_sr}\n",
    "\n",
    "def check_dbitem_changed(LAST_NDBNO_TOTAL, current_ndbno_total, LAST_SR, current_sr): #TODO: convert to decorator\n",
    "    '''Returns True if Database has a different number of items\n",
    "    '''\n",
    "    if LAST_NDBNO_TOTAL != current_ndbno_total:\n",
    "        return True\n",
    "    elif LAST_SR != current_sr:\n",
    "        return True\n",
    "    else:\n",
    "        return False\n",
    "\n",
    "def get_ndbno_list(search_api_request, formt, q, sort, mx, offset, API_KEY):\n",
    "    '''This returns a list of ndbno's in the usda foods database\n",
    "    '''\n",
    "    search_object = requests.get(search_api_request) \n",
    "    search_json = search_object.json() # convert search_object to JSON\n",
    "\n",
    "    ndbno_list_dict = search_json['list']['item'] # ndbno_list_dict is a list of dictionaries, where each dictionary is a unique food item\n",
    "    \n",
    "    return ndbno_list_dict\n",
    "\n",
    "def get_ndbno_full_report(report_api_request, ndbno_id):\n",
    "    '''Returns JSON Full Report \n",
    "    '''\n",
    "    full_report = requests.get(report_api_request)\n",
    "    full_report_json = full_report.json()\n",
    "    return full_report_json\n",
    "    "
   ]
  },
  {
   "cell_type": "markdown",
   "metadata": {},
   "source": [
    "## Determine the number of items in the USDA database \n",
    "\n",
    "We will be using this marker as well as the lastupdated date to initiate a scan for new data.  running the webiste through internetarchives will do the trick."
   ]
  },
  {
   "cell_type": "code",
   "execution_count": null,
   "metadata": {},
   "outputs": [],
   "source": [
    "db_status = get_db_status(initial_search_request)\n",
    "current_ndbno_total = db_status['current_total']\n",
    "current_sr = db_status['current_sr']\n",
    "print(\"Current Number of Items in database: \", current_ndbno_total)\n",
    "print(\"Current Standard Reference Database Version: \", current_sr)"
   ]
  },
  {
   "cell_type": "markdown",
   "metadata": {},
   "source": [
    "## Grab Metadata for items in the USDA database"
   ]
  },
  {
   "cell_type": "code",
   "execution_count": null,
   "metadata": {
    "scrolled": true
   },
   "outputs": [],
   "source": [
    "# total amount that we can search \n",
    "print(\"The maximum number of items we can pull from a request is: \", mx)\n",
    "\n",
    "# determine how many number of API request for searches will need to be done\n",
    "import math\n",
    "# search_num = math.ceil(current_ndbno_total/mx) # to round up!\n",
    "search_num = 1 # for testing\n",
    "\n",
    "# for each search, we need to keep track of the offset counter\n",
    "offset_counter = 0\n",
    "\n",
    "ndbno_list = []\n",
    "\n",
    "for int in range(0, search_num):\n",
    "    # determine offset\n",
    "    offset_temp = str(offset + (offset_counter * mx)) \n",
    "    \n",
    "    temp_ndbno_list = get_ndbno_list(search_api_request, formt, q, sort, mx, offset, API_KEY)\n",
    "    \n",
    "    for item in temp_ndbno_list:\n",
    "        ndbno_list.append(item)\n",
    "        \n",
    "    # increase offset counter\n",
    "    offset_counter += 1\n",
    "\n",
    "# print results\n",
    "for item in ndbno_list:\n",
    "    print(item)"
   ]
  },
  {
   "cell_type": "markdown",
   "metadata": {},
   "source": [
    "### Create database instances for food_desc, food_unit, food_upc, nut_per_100_g for each item in pull request"
   ]
  },
  {
   "cell_type": "code",
   "execution_count": null,
   "metadata": {},
   "outputs": [],
   "source": [
    "print(check_dbitem_changed(LAST_NDBNO_TOTAL, current_ndbno_total, LAST_SR, current_sr))"
   ]
  },
  {
   "cell_type": "markdown",
   "metadata": {},
   "source": [
    "## Let's see if there's been an update in the USDA database"
   ]
  },
  {
   "cell_type": "markdown",
   "metadata": {},
   "source": [
    "## If there's been an update, let's get a list of all the ndbno's in the database at this current time"
   ]
  },
  {
   "cell_type": "code",
   "execution_count": null,
   "metadata": {
    "collapsed": true
   },
   "outputs": [],
   "source": []
  },
  {
   "cell_type": "code",
   "execution_count": null,
   "metadata": {},
   "outputs": [],
   "source": [
    "# db.create_all()\n",
    "\n",
    "\n",
    "# let's unpack data from JSON\n",
    "for item in ndbno_list:\n",
    "    \n",
    "    # let's get the metadata\n",
    "    name = item['name'][:-19] \n",
    "    upc = item['name'][-12:]\n",
    "    ndbno_id = item['ndbno']\n",
    "    food_cat = item['group']\n",
    "    \n",
    "    # print(name, upc, ndbno_id, food_cat) \n",
    "    \n",
    "    # let's get the full report json data\n",
    "    # print(ndbno_id, type(ndbno_id))\n",
    "    # print(report_api_request)\n",
    "    full_report_json = get_ndbno_full_report(report_api_request, ndbno_id)\n",
    "    print(full_report_json)\n",
    "    \n",
    "    short_desc = full_report_json['report']['food']['ing']['desc']\n",
    "    updated = full_report_json['report']['food']['ing']['upd']\n",
    "    \n",
    "    # print(short_desc, updated)\n",
    "        \n",
    "    # create classes instantiations\n",
    "    unit_desc\n",
    "    grams_per_unit\n",
    "\n"
   ]
  },
  {
   "cell_type": "code",
   "execution_count": null,
   "metadata": {
    "collapsed": true
   },
   "outputs": [],
   "source": []
  },
  {
   "cell_type": "markdown",
   "metadata": {},
   "source": [
    "## Let's crossreference this with all the ndbno's in the USDA food's database"
   ]
  },
  {
   "cell_type": "markdown",
   "metadata": {},
   "source": [
    "There's should be a better way to do this without downloading all the ndbno's full report.  The problem is that the update information is located in the full report, and not in the metadata.  This is bad design..."
   ]
  },
  {
   "cell_type": "markdown",
   "metadata": {},
   "source": [
    "## Now let's get a list of all the new ndbno's"
   ]
  },
  {
   "cell_type": "markdown",
   "metadata": {},
   "source": [
    "Let's fetch the JSON data of each of the new ndbno's"
   ]
  },
  {
   "cell_type": "code",
   "execution_count": null,
   "metadata": {
    "collapsed": true
   },
   "outputs": [],
   "source": [
    "type = 'f' # get full reports only\n",
    "\n",
    "usda_database_check = requests.get(initial_search_request)\n",
    "check_json = usda_database_check.json()\n",
    "\n",
    "print(check_json)\n",
    "\n",
    "items_total = check_json['list']['total'] # total number of species\n",
    "print(items_total)\n",
    "\n",
    "# get all ndbno in database\n",
    "get_all_items_api_request = 'https://api.nal.usda.gov/ndb/search/?format=json&q=&sort=n&max=1&offset=0&api_key=DEMO_KEY'"
   ]
  },
  {
   "cell_type": "code",
   "execution_count": null,
   "metadata": {
    "collapsed": true
   },
   "outputs": [],
   "source": []
  },
  {
   "cell_type": "code",
   "execution_count": null,
   "metadata": {
    "collapsed": true
   },
   "outputs": [],
   "source": []
  },
  {
   "cell_type": "code",
   "execution_count": null,
   "metadata": {
    "collapsed": true
   },
   "outputs": [],
   "source": [
    "example = requests.get(example_food_comp_api_request)\n",
    "print(type(example), example)"
   ]
  },
  {
   "cell_type": "code",
   "execution_count": null,
   "metadata": {
    "collapsed": true
   },
   "outputs": [],
   "source": [
    "example_json = example.json()\n",
    "\n",
    "print(type(example_json), example_json)"
   ]
  },
  {
   "cell_type": "code",
   "execution_count": null,
   "metadata": {
    "collapsed": true
   },
   "outputs": [],
   "source": [
    "start_url = \"https://ndb.nal.usda.gov/ndb/search/list\"\n",
    "api_key1 = '7WqOHQdC2shEfBrx25bIEwxBkvUkYTHMoHYlLWL8'\n",
    "api_key2 = 'avWkKpCJmnTjviy9vfKmsaZkGALXNabV05zUyXQ1'\n",
    "\n",
    "example_search_api_request = 'https://api.nal.usda.gov/ndb/search/?format=json&q=butter&max=25&offset=0&api_key=DEMO_KEY'\n",
    "example_food_comp_api_request = 'https://api.nal.usda.gov/ndb/reports/?ndbno=01009&type=f&format=xml&api_key=DEMO_KEY'\n",
    "                                \n",
    "                              \n",
    "\n",
    "html_target = \"a\"\n",
    "tag = \"href\"\n",
    "f_ext = \".csv\"\n",
    "dir_name = \"...\""
   ]
  },
  {
   "cell_type": "code",
   "execution_count": null,
   "metadata": {
    "collapsed": true
   },
   "outputs": [],
   "source": []
  },
  {
   "cell_type": "markdown",
   "metadata": {},
   "source": [
    "### Request and Collect"
   ]
  },
  {
   "cell_type": "markdown",
   "metadata": {
    "collapsed": true
   },
   "source": [
    "We instantiate a request object and call the `.get` method on it. `r` is our `HTTP 1.1` response. \n",
    "\n",
    "From here we have:\n",
    "\n",
    "*    status\n",
    "*    encoding\n",
    "*    text of the body --- should type check this\n",
    "*    content of the body --- type binary\n",
    "\n",
    "Once we have our `html` we are ready to scrape the site for useful `href` tags`\n",
    "\n"
   ]
  },
  {
   "cell_type": "code",
   "execution_count": null,
   "metadata": {
    "collapsed": true
   },
   "outputs": [],
   "source": [
    "result = requests.get(start_url)\n",
    "\n",
    "status = result.status_code\n",
    "encoding = result.encoding\n",
    "html_doc = result.text\n",
    "c = result.content\n",
    "\n",
    "print(status, encoding)"
   ]
  },
  {
   "cell_type": "markdown",
   "metadata": {},
   "source": [
    "Now let's create a beautifulsoup object out of the request object so we can more easily navigate the html"
   ]
  },
  {
   "cell_type": "code",
   "execution_count": null,
   "metadata": {
    "collapsed": true
   },
   "outputs": [],
   "source": [
    "soup = BeautifulSoup(c, 'lxml')"
   ]
  },
  {
   "cell_type": "code",
   "execution_count": null,
   "metadata": {
    "collapsed": true
   },
   "outputs": [],
   "source": [
    "print(soup.prettify())"
   ]
  },
  {
   "cell_type": "code",
   "execution_count": null,
   "metadata": {
    "collapsed": true
   },
   "outputs": [],
   "source": [
    "soup.title"
   ]
  },
  {
   "cell_type": "code",
   "execution_count": null,
   "metadata": {
    "collapsed": true
   },
   "outputs": [],
   "source": [
    "soup.title.name"
   ]
  },
  {
   "cell_type": "code",
   "execution_count": null,
   "metadata": {
    "collapsed": true
   },
   "outputs": [],
   "source": [
    "soup.title.string"
   ]
  },
  {
   "cell_type": "code",
   "execution_count": null,
   "metadata": {
    "collapsed": true
   },
   "outputs": [],
   "source": [
    "soup.title.parent.name"
   ]
  },
  {
   "cell_type": "code",
   "execution_count": null,
   "metadata": {
    "collapsed": true
   },
   "outputs": [],
   "source": [
    "soup.p"
   ]
  },
  {
   "cell_type": "code",
   "execution_count": null,
   "metadata": {
    "collapsed": true
   },
   "outputs": [],
   "source": [
    "soup.a"
   ]
  },
  {
   "cell_type": "markdown",
   "metadata": {
    "collapsed": true
   },
   "source": [
    "#### download_url(url, endpoint)\n",
    "\n",
    "This function makes a new request each time it's called. It writes the binary content to file.\n",
    "This could be two functions:\n",
    "1. Get the new request object/content \n",
    "2. Write that content to file "
   ]
  },
  {
   "cell_type": "code",
   "execution_count": null,
   "metadata": {
    "collapsed": true
   },
   "outputs": [],
   "source": [
    "def download_url(url, endpoint):\n",
    "    \"\"\"\n",
    "    return: None\n",
    "    downloads file, requires url in global or class scope.\n",
    "    \"\"\"\n",
    "    url_addr = \"{url}/{endpoint}\".format(url=url, endpoint=endpoint)\n",
    "    file_path = \"{directory}/{endpoint}\".format(directory=dir_name, endpoint=endpoint)\n",
    "    \n",
    "    r = requests.get(url_addr)\n",
    "    content_file = r.content\n",
    "    \n",
    "    with open(file_path, 'wb') as f:\n",
    "        print \"\"\"Downloading From: {url}\\nWriting to: {file_path}\"\"\".format(\n",
    "                                                url=url_addr, \n",
    "                                                file_path=file_path\n",
    "                                                                    )\n",
    "        f.write(content_file)"
   ]
  },
  {
   "cell_type": "code",
   "execution_count": null,
   "metadata": {
    "collapsed": true
   },
   "outputs": [],
   "source": []
  }
 ],
 "metadata": {
  "kernelspec": {
   "display_name": "Python 3",
   "language": "python",
   "name": "python3"
  },
  "language_info": {
   "codemirror_mode": {
    "name": "ipython",
    "version": 3
   },
   "file_extension": ".py",
   "mimetype": "text/x-python",
   "name": "python",
   "nbconvert_exporter": "python",
   "pygments_lexer": "ipython3",
   "version": "3.5.2"
  }
 },
 "nbformat": 4,
 "nbformat_minor": 1
}
